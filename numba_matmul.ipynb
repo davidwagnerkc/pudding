{
 "cells": [
  {
   "cell_type": "code",
   "execution_count": 1,
   "id": "d63a35d8-0b5c-4c42-9fde-95d21427e6ce",
   "metadata": {},
   "outputs": [],
   "source": [
    "import numpy as np\n",
    "from numba import njit, prange\n",
    "import random"
   ]
  },
  {
   "cell_type": "code",
   "execution_count": 2,
   "id": "dda846b5-7c77-4948-8b4a-833a9315dcc2",
   "metadata": {},
   "outputs": [
    {
     "data": {
      "text/plain": [
       "(250, 250)"
      ]
     },
     "execution_count": 2,
     "metadata": {},
     "output_type": "execute_result"
    }
   ],
   "source": [
    "A, B = [], []\n",
    "rows, cols = 250, 250\n",
    "def gen_rnd_matrix(rows, cols):\n",
    "    M = []\n",
    "    for i in range(rows):\n",
    "        row = []\n",
    "        for j in range(cols):\n",
    "            row.append(random.randint(0, 2 ** 16))\n",
    "        M.append(row)\n",
    "    return M\n",
    "A = gen_rnd_matrix(rows, cols)\n",
    "B = gen_rnd_matrix(rows, cols)\n",
    "len(A), len(A[0])"
   ]
  },
  {
   "cell_type": "markdown",
   "id": "e15dc2b3-0b15-4c47-896e-077c6cb0e233",
   "metadata": {},
   "source": [
    "### python"
   ]
  },
  {
   "cell_type": "code",
   "execution_count": 3,
   "id": "c5c71949-f47e-4953-aaf6-3902e172576a",
   "metadata": {},
   "outputs": [],
   "source": [
    "def dot(a: list, b: list):\n",
    "    accum = []\n",
    "    for a_val, b_val in zip(a, b):\n",
    "        accum.append(a_val * b_val)\n",
    "    return sum(accum)"
   ]
  },
  {
   "cell_type": "code",
   "execution_count": 4,
   "id": "969ce8a9-34b1-40b3-bf3c-4405440b43c2",
   "metadata": {},
   "outputs": [],
   "source": [
    "assert dot(A[0], B[0]) == np.dot(A[0], B[0])"
   ]
  },
  {
   "cell_type": "code",
   "execution_count": 5,
   "id": "ae9a7f25-9e65-4125-ba34-df1f2c352806",
   "metadata": {},
   "outputs": [],
   "source": [
    "def matmul(a: list[list], b: list[list]):\n",
    "    m = len(a)\n",
    "    p = len(b[0]) \n",
    "    c = []\n",
    "    for i in range(m):\n",
    "        row = []\n",
    "        for j in range(p):\n",
    "            row.append(dot(a[i], [r[j] for r in b]))\n",
    "        c.append(row)\n",
    "    return c"
   ]
  },
  {
   "cell_type": "code",
   "execution_count": 6,
   "id": "7b9a9e79-bfbe-4198-b8f3-2aabf5a3227b",
   "metadata": {},
   "outputs": [],
   "source": [
    "assert (matmul(A, B) == np.matmul(A, B)).all()"
   ]
  },
  {
   "cell_type": "markdown",
   "id": "415b0833-4643-4103-b96c-e52dcc9c84f5",
   "metadata": {},
   "source": [
    "### jit"
   ]
  },
  {
   "cell_type": "code",
   "execution_count": 7,
   "id": "ba7fc273-1e43-4391-9a75-7a5dbcadc35e",
   "metadata": {},
   "outputs": [],
   "source": [
    "@njit()\n",
    "def jdot(a: np.array, b: np.array):\n",
    "    accum = 0\n",
    "    for i in range(len(a)):\n",
    "        accum += a[i] * b[i]\n",
    "    return accum"
   ]
  },
  {
   "cell_type": "code",
   "execution_count": 8,
   "id": "3c42e26d-5ce3-4ab0-ab70-5da436afd620",
   "metadata": {},
   "outputs": [],
   "source": [
    "@njit(parallel=True)\n",
    "def jmatmul(a: np.array, b: np.array):\n",
    "    c = np.zeros((a.shape[0], b.shape[1]))\n",
    "    for i in prange(c.shape[0]):\n",
    "        for j in prange(c.shape[1]):\n",
    "            c[i, j] = jdot(a[i, :], b[:, j])\n",
    "    return c"
   ]
  },
  {
   "cell_type": "code",
   "execution_count": 9,
   "id": "07b41a1a-9e17-4c0e-a1c0-71359c4a1a16",
   "metadata": {},
   "outputs": [],
   "source": [
    "A_npy, B_npy = np.array(A), np.array(B) # jit requires numpy input for nested list"
   ]
  },
  {
   "cell_type": "code",
   "execution_count": 10,
   "id": "f7c8d823-3d89-4058-ad6a-a5adb2aa073d",
   "metadata": {},
   "outputs": [],
   "source": [
    "# warmup\n",
    "_ = jdot(A_npy[0, :], B_npy[0, :])\n",
    "_ = jmatmul(A_npy, B_npy)"
   ]
  },
  {
   "cell_type": "markdown",
   "id": "9efcf7be-d130-4322-ad27-90417ea60684",
   "metadata": {},
   "source": [
    "### dot times"
   ]
  },
  {
   "cell_type": "code",
   "execution_count": 11,
   "id": "1d011419-ef99-4eaa-b0b8-cff57856a4d7",
   "metadata": {},
   "outputs": [
    {
     "name": "stdout",
     "output_type": "stream",
     "text": [
      "22.5 µs ± 371 ns per loop (mean ± std. dev. of 7 runs, 10000 loops each)\n"
     ]
    }
   ],
   "source": [
    "%timeit dot(A[0], B[0])  # run once since very slow"
   ]
  },
  {
   "cell_type": "code",
   "execution_count": 12,
   "id": "87293aee-d732-4962-998b-9245e15e0970",
   "metadata": {},
   "outputs": [
    {
     "name": "stdout",
     "output_type": "stream",
     "text": [
      "1.77 µs ± 38.5 ns per loop (mean ± std. dev. of 7 runs, 1000000 loops each)\n"
     ]
    }
   ],
   "source": [
    "%timeit np.dot(A_npy[0, :], B_npy[0, :])"
   ]
  },
  {
   "cell_type": "code",
   "execution_count": 13,
   "id": "3f636350-7a6c-4987-beab-c862595fc7f7",
   "metadata": {},
   "outputs": [
    {
     "name": "stdout",
     "output_type": "stream",
     "text": [
      "832 ns ± 22.1 ns per loop (mean ± std. dev. of 7 runs, 1000000 loops each)\n"
     ]
    }
   ],
   "source": [
    "%timeit jdot(A_npy[0, :], B_npy[0, :])"
   ]
  },
  {
   "cell_type": "markdown",
   "id": "b6b1f7b8-96f2-4910-9fb2-9d38486b457e",
   "metadata": {},
   "source": [
    "### matmul times"
   ]
  },
  {
   "cell_type": "code",
   "execution_count": 14,
   "id": "954c7cdd-10e1-4b3a-9725-753f3bf1c32e",
   "metadata": {},
   "outputs": [
    {
     "name": "stdout",
     "output_type": "stream",
     "text": [
      "CPU times: user 2.24 s, sys: 8.82 ms, total: 2.24 s\n",
      "Wall time: 2.25 s\n"
     ]
    }
   ],
   "source": [
    "%time _ = matmul(A, B) # run once since very slow"
   ]
  },
  {
   "cell_type": "code",
   "execution_count": 15,
   "id": "7255b394-421f-4480-ba10-0ee12637de69",
   "metadata": {},
   "outputs": [
    {
     "name": "stdout",
     "output_type": "stream",
     "text": [
      "10.5 ms ± 558 µs per loop (mean ± std. dev. of 7 runs, 100 loops each)\n"
     ]
    }
   ],
   "source": [
    "%timeit np.matmul(A_npy, B_npy)"
   ]
  },
  {
   "cell_type": "code",
   "execution_count": 16,
   "id": "4dc96116-daf1-4d68-bec6-229245de9fde",
   "metadata": {},
   "outputs": [
    {
     "name": "stdout",
     "output_type": "stream",
     "text": [
      "2.29 ms ± 195 µs per loop (mean ± std. dev. of 7 runs, 100 loops each)\n"
     ]
    }
   ],
   "source": [
    "%timeit jmatmul(A_npy, B_npy)"
   ]
  },
  {
   "cell_type": "markdown",
   "id": "578daf01-4482-49da-8139-a7e14904611c",
   "metadata": {},
   "source": [
    "# perf plot"
   ]
  },
  {
   "cell_type": "code",
   "execution_count": 17,
   "id": "a209db2c-22f6-45ee-b979-a731ed99965e",
   "metadata": {},
   "outputs": [],
   "source": [
    "import perfplot"
   ]
  },
  {
   "cell_type": "code",
   "execution_count": 35,
   "id": "c672f5da-30e0-41d4-acc9-17f12b9752d7",
   "metadata": {},
   "outputs": [
    {
     "data": {
      "text/html": [
       "<pre style=\"white-space:pre;overflow-x:auto;line-height:normal;font-family:Menlo,'DejaVu Sans Mono',consolas,'Courier New',monospace\"></pre>\n"
      ],
      "text/plain": [
       "\u001b[?25l"
      ]
     },
     "metadata": {},
     "output_type": "display_data"
    },
    {
     "data": {
      "application/vnd.jupyter.widget-view+json": {
       "model_id": "83c9dff2d15643569fdb93cc0e9563b2",
       "version_major": 2,
       "version_minor": 0
      },
      "text/plain": [
       "Output()"
      ]
     },
     "metadata": {},
     "output_type": "display_data"
    },
    {
     "data": {
      "text/html": [
       "<pre style=\"white-space:pre;overflow-x:auto;line-height:normal;font-family:Menlo,'DejaVu Sans Mono',consolas,'Courier New',monospace\">\n",
       "</pre>\n"
      ],
      "text/plain": [
       "\n",
       "\u001b[?25h"
      ]
     },
     "metadata": {},
     "output_type": "display_data"
    },
    {
     "data": {
      "image/png": "[encoded data removed]",
      "text/plain": [
       "<Figure size 640x480 with 1 Axes>"
      ]
     },
     "metadata": {},
     "output_type": "display_data"
    },
    {
     "name": "stdout",
     "output_type": "stream",
     "text": [
      "CPU times: user 1min 12s, sys: 4.85 s, total: 1min 16s\n",
      "Wall time: 20.7 s\n"
     ]
    }
   ],
   "source": [
    "%%time\n",
    "perfplot.show(\n",
    "    setup=lambda n: np.random.randint(0, 2 ** 16, size=(n, n)),\n",
    "    kernels=[\n",
    "        lambda a: matmul(a, a),\n",
    "        lambda a: np.matmul(a, a),\n",
    "        lambda a: jmatmul(a, a),\n",
    "    ],\n",
    "    labels=[\"python\", \"numpy\", \"numba\"],\n",
    "    n_range=[2**k for k in range(9)],\n",
    "    xlabel=\"len(a)\",\n",
    "    show_progress=True,\n",
    "    # time_unit=\"s\",  # set to one of (\"auto\", \"s\", \"ms\", \"us\", or \"ns\") to force plot units\n",
    ")"
   ]
  },
  {
   "cell_type": "code",
   "execution_count": null,
   "id": "b0c96999-7127-4685-bca3-4d1f8ff04b98",
   "metadata": {},
   "outputs": [],
   "source": []
  }
 ],
 "metadata": {
  "kernelspec": {
   "display_name": "Python 3 (ipykernel)",
   "language": "python",
   "name": "python3"
  },
  "language_info": {
   "codemirror_mode": {
    "name": "ipython",
    "version": 3
   },
   "file_extension": ".py",
   "mimetype": "text/x-python",
   "name": "python",
   "nbconvert_exporter": "python",
   "pygments_lexer": "ipython3",
   "version": "3.10.9"
  }
 },
 "nbformat": 4,
 "nbformat_minor": 5
}
