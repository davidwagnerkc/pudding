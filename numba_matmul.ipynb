{
 "cells": [
  {
   "cell_type": "code",
   "execution_count": 65,
   "id": "d63a35d8-0b5c-4c42-9fde-95d21427e6ce",
   "metadata": {},
   "outputs": [],
   "source": [
    "import numpy as np\n",
    "from numba import njit, prange\n",
    "import random"
   ]
  },
  {
   "cell_type": "code",
   "execution_count": 66,
   "id": "dda846b5-7c77-4948-8b4a-833a9315dcc2",
   "metadata": {},
   "outputs": [
    {
     "data": {
      "text/plain": [
       "(250, 250)"
      ]
     },
     "execution_count": 66,
     "metadata": {},
     "output_type": "execute_result"
    }
   ],
   "source": [
    "A, B = [], []\n",
    "rows, cols = 250, 250\n",
    "def gen_rnd_matrix(rows, cols):\n",
    "    M = []\n",
    "    for i in range(rows):\n",
    "        row = []\n",
    "        for j in range(cols):\n",
    "            row.append(random.randint(0, 2 ** 16))\n",
    "        M.append(row)\n",
    "    return M\n",
    "A = gen_rnd_matrix(rows, cols)\n",
    "B = gen_rnd_matrix(rows, cols)\n",
    "len(A), len(A[0])"
   ]
  },
  {
   "cell_type": "markdown",
   "id": "e15dc2b3-0b15-4c47-896e-077c6cb0e233",
   "metadata": {},
   "source": [
    "### python"
   ]
  },
  {
   "cell_type": "code",
   "execution_count": 67,
   "id": "c5c71949-f47e-4953-aaf6-3902e172576a",
   "metadata": {},
   "outputs": [],
   "source": [
    "def dot(a: list, b: list):\n",
    "    accum = []\n",
    "    for a_val, b_val in zip(a, b):\n",
    "        accum.append(a_val * b_val)\n",
    "    return sum(accum)"
   ]
  },
  {
   "cell_type": "code",
   "execution_count": 68,
   "id": "969ce8a9-34b1-40b3-bf3c-4405440b43c2",
   "metadata": {},
   "outputs": [],
   "source": [
    "assert dot(A[0], B[0]) == np.dot(A[0], B[0])"
   ]
  },
  {
   "cell_type": "code",
   "execution_count": 69,
   "id": "ae9a7f25-9e65-4125-ba34-df1f2c352806",
   "metadata": {},
   "outputs": [],
   "source": [
    "def matmul(a: list[list], b: list[list]):\n",
    "    m = len(a)\n",
    "    p = len(b[0]) \n",
    "    c = []\n",
    "    for i in range(m):\n",
    "        row = []\n",
    "        for j in range(p):\n",
    "            row.append(dot(a[i], [r[j] for r in b]))\n",
    "        c.append(row)\n",
    "    return c"
   ]
  },
  {
   "cell_type": "code",
   "execution_count": 70,
   "id": "7b9a9e79-bfbe-4198-b8f3-2aabf5a3227b",
   "metadata": {},
   "outputs": [],
   "source": [
    "assert (matmul(A, B) == np.matmul(A, B)).all()"
   ]
  },
  {
   "cell_type": "markdown",
   "id": "415b0833-4643-4103-b96c-e52dcc9c84f5",
   "metadata": {},
   "source": [
    "### jit"
   ]
  },
  {
   "cell_type": "code",
   "execution_count": 71,
   "id": "ba7fc273-1e43-4391-9a75-7a5dbcadc35e",
   "metadata": {},
   "outputs": [],
   "source": [
    "@njit()\n",
    "def jdot(a: np.array, b: np.array):\n",
    "    accum = 0\n",
    "    for i in range(len(a)):\n",
    "        accum += a[i] * b[i]\n",
    "    return accum"
   ]
  },
  {
   "cell_type": "code",
   "execution_count": 72,
   "id": "3c42e26d-5ce3-4ab0-ab70-5da436afd620",
   "metadata": {},
   "outputs": [],
   "source": [
    "@njit(parallel=True)\n",
    "def jmatmul(a: np.array, b: np.array):\n",
    "    c = np.zeros((a.shape[0], b.shape[1]))\n",
    "    for i in prange(c.shape[0]):\n",
    "        for j in prange(c.shape[1]):\n",
    "            c[i, j] = jdot(a[i, :], b[:, j])\n",
    "    return c"
   ]
  },
  {
   "cell_type": "code",
   "execution_count": 73,
   "id": "07b41a1a-9e17-4c0e-a1c0-71359c4a1a16",
   "metadata": {},
   "outputs": [],
   "source": [
    "A_npy, B_npy = np.array(A), np.array(B) # jit requires numpy input for nested list"
   ]
  },
  {
   "cell_type": "code",
   "execution_count": 74,
   "id": "f7c8d823-3d89-4058-ad6a-a5adb2aa073d",
   "metadata": {},
   "outputs": [],
   "source": [
    "# warmup\n",
    "_ = jdot(A_npy[0, :], B_npy[0, :])\n",
    "_ = jmatmul(A_npy, B_npy)"
   ]
  },
  {
   "cell_type": "markdown",
   "id": "9efcf7be-d130-4322-ad27-90417ea60684",
   "metadata": {},
   "source": [
    "### dot times"
   ]
  },
  {
   "cell_type": "code",
   "execution_count": 75,
   "id": "1d011419-ef99-4eaa-b0b8-cff57856a4d7",
   "metadata": {},
   "outputs": [
    {
     "name": "stdout",
     "output_type": "stream",
     "text": [
      "22 µs ± 747 ns per loop (mean ± std. dev. of 7 runs, 10000 loops each)\n"
     ]
    }
   ],
   "source": [
    "%timeit dot(A[0], B[0])  # run once since very slow"
   ]
  },
  {
   "cell_type": "code",
   "execution_count": 76,
   "id": "87293aee-d732-4962-998b-9245e15e0970",
   "metadata": {},
   "outputs": [
    {
     "name": "stdout",
     "output_type": "stream",
     "text": [
      "1.64 µs ± 38.3 ns per loop (mean ± std. dev. of 7 runs, 1000000 loops each)\n"
     ]
    }
   ],
   "source": [
    "%timeit np.dot(A_npy[0, :], B_npy[0, :])"
   ]
  },
  {
   "cell_type": "code",
   "execution_count": 77,
   "id": "3f636350-7a6c-4987-beab-c862595fc7f7",
   "metadata": {},
   "outputs": [
    {
     "name": "stdout",
     "output_type": "stream",
     "text": [
      "753 ns ± 16.2 ns per loop (mean ± std. dev. of 7 runs, 1000000 loops each)\n"
     ]
    }
   ],
   "source": [
    "%timeit jdot(A_npy[0, :], B_npy[0, :])"
   ]
  },
  {
   "cell_type": "markdown",
   "id": "b6b1f7b8-96f2-4910-9fb2-9d38486b457e",
   "metadata": {},
   "source": [
    "### matmul times"
   ]
  },
  {
   "cell_type": "code",
   "execution_count": 78,
   "id": "954c7cdd-10e1-4b3a-9725-753f3bf1c32e",
   "metadata": {},
   "outputs": [
    {
     "name": "stdout",
     "output_type": "stream",
     "text": [
      "CPU times: user 2.13 s, sys: 4.1 ms, total: 2.14 s\n",
      "Wall time: 2.14 s\n"
     ]
    }
   ],
   "source": [
    "%time _ = matmul(A, B) # run once since very slow"
   ]
  },
  {
   "cell_type": "code",
   "execution_count": 81,
   "id": "7255b394-421f-4480-ba10-0ee12637de69",
   "metadata": {},
   "outputs": [
    {
     "name": "stdout",
     "output_type": "stream",
     "text": [
      "9.33 ms ± 181 µs per loop (mean ± std. dev. of 7 runs, 100 loops each)\n"
     ]
    }
   ],
   "source": [
    "%timeit np.matmul(A_npy, B_npy)"
   ]
  },
  {
   "cell_type": "code",
   "execution_count": 82,
   "id": "4dc96116-daf1-4d68-bec6-229245de9fde",
   "metadata": {},
   "outputs": [
    {
     "name": "stdout",
     "output_type": "stream",
     "text": [
      "2.2 ms ± 168 µs per loop (mean ± std. dev. of 7 runs, 1000 loops each)\n"
     ]
    }
   ],
   "source": [
    "%timeit jmatmul(A_npy, B_npy)"
   ]
  },
  {
   "cell_type": "code",
   "execution_count": null,
   "id": "916363cf-c480-4927-a3de-0929340a903f",
   "metadata": {},
   "outputs": [],
   "source": []
  }
 ],
 "metadata": {
  "kernelspec": {
   "display_name": "Python 3 (ipykernel)",
   "language": "python",
   "name": "python3"
  },
  "language_info": {
   "codemirror_mode": {
    "name": "ipython",
    "version": 3
   },
   "file_extension": ".py",
   "mimetype": "text/x-python",
   "name": "python",
   "nbconvert_exporter": "python",
   "pygments_lexer": "ipython3",
   "version": "3.10.9"
  }
 },
 "nbformat": 4,
 "nbformat_minor": 5
}
