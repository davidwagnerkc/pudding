{
 "cells": [
  {
   "cell_type": "markdown",
   "id": "1b54aad1-2b3b-481b-b17b-d476e40b4785",
   "metadata": {},
   "source": [
    "```\n",
    "cargo install evcxr_jupyter\n",
    "evcxr_jupyter --install\n",
    "```"
   ]
  },
  {
   "cell_type": "code",
   "execution_count": 2,
   "id": "0969ffe1-7e0a-4326-ab10-04a5776fcb11",
   "metadata": {},
   "outputs": [
    {
     "data": {
      "text/plain": [
       "Optimization: 3\n"
      ]
     },
     "execution_count": 2,
     "metadata": {},
     "output_type": "execute_result"
    }
   ],
   "source": [
    ":opt 3"
   ]
  },
  {
   "cell_type": "code",
   "execution_count": null,
   "id": "07fcc414-36af-4b1a-beea-7f3179342991",
   "metadata": {},
   "outputs": [],
   "source": [
    ":dep ndarray = { version = \"0.15\", features = [\"rayon\", \"matrixmultiply-threading\"] }\n",
    ":dep ndarray-rand = \"0.14.0\"\n",
    "// :dep ndarray-linalg = { version = \"0.13\", features = [\"openblas-system\"] }\n",
    "use ndarray::{Array, Array2};\n",
    "use ndarray_rand::RandomExt;\n",
    "use ndarray_rand::rand_distr::Uniform;\n",
    "use std::time::{Duration, Instant};"
   ]
  },
  {
   "cell_type": "code",
   "execution_count": 4,
   "id": "aab159e5-c5fb-4520-b65a-da994632b2fc",
   "metadata": {},
   "outputs": [],
   "source": [
    "let lower = -i64::pow(2, 16);\n",
    "let upper = i64::pow(2, 16);"
   ]
  },
  {
   "cell_type": "code",
   "execution_count": 5,
   "id": "c6db76d0-153b-4cd8-8c3f-b146aaff6909",
   "metadata": {},
   "outputs": [],
   "source": [
    "let A = Array::random((250, 250), Uniform::new(lower, upper));\n",
    "let B = Array::random((250, 250), Uniform::new(lower, upper));"
   ]
  },
  {
   "cell_type": "code",
   "execution_count": 6,
   "id": "251f522a-096f-4999-8f7e-924afbb03b5f",
   "metadata": {},
   "outputs": [
    {
     "data": {
      "text/plain": [
       "[250, 250]"
      ]
     },
     "execution_count": 6,
     "metadata": {},
     "output_type": "execute_result"
    }
   ],
   "source": [
    "A.shape()"
   ]
  },
  {
   "cell_type": "code",
   "execution_count": 7,
   "id": "72c4caa4-9220-4bdd-93d6-cb99f09db0f8",
   "metadata": {},
   "outputs": [
    {
     "data": {
      "text/plain": [
       "Timing: true\n"
      ]
     },
     "execution_count": 7,
     "metadata": {},
     "output_type": "execute_result"
    },
    {
     "data": {
      "text/html": [
       "<span style=\"color: rgba(0,0,0,0.4);\">Took 0ms</span>"
      ]
     },
     "execution_count": 7,
     "metadata": {},
     "output_type": "execute_result"
    }
   ],
   "source": [
    ":timing"
   ]
  },
  {
   "cell_type": "code",
   "execution_count": 9,
   "id": "5cb3ba73-0e85-46f5-a12f-05f8df777c4e",
   "metadata": {},
   "outputs": [
    {
     "name": "stdout",
     "output_type": "stream",
     "text": [
      "34.488476ms\n"
     ]
    },
    {
     "data": {
      "text/html": [
       "<span style=\"color: rgba(0,0,0,0.4);\">Took 501ms</span>"
      ]
     },
     "execution_count": 9,
     "metadata": {},
     "output_type": "execute_result"
    }
   ],
   "source": [
    "let start = Instant::now();\n",
    "let result = A.dot(&B);\n",
    "let duration = start.elapsed();\n",
    "println!(\"{:?}\", duration);"
   ]
  },
  {
   "cell_type": "code",
   "execution_count": 8,
   "id": "76e00436-04c9-4137-8c55-ead1e51d1e03",
   "metadata": {},
   "outputs": [
    {
     "data": {
      "text/html": [
       "<span style=\"color: rgba(0,0,0,0.4);\">Took 468ms</span>"
      ]
     },
     "execution_count": 8,
     "metadata": {},
     "output_type": "execute_result"
    },
    {
     "name": "stdout",
     "output_type": "stream",
     "text": [
      "34.934335ms\n"
     ]
    }
   ],
   "source": [
    "let start = Instant::now();\n",
    "let result = A.dot(&B);\n",
    "let duration = start.elapsed();\n",
    "println!(\"{:?}\", duration);"
   ]
  },
  {
   "cell_type": "code",
   "execution_count": 9,
   "id": "b0ebe042-e06e-4792-92ca-1351e8e5f050",
   "metadata": {},
   "outputs": [
    {
     "data": {
      "text/html": [
       "<span style=\"color: rgba(0,0,0,0.4);\">Took 398ms</span>"
      ]
     },
     "execution_count": 9,
     "metadata": {},
     "output_type": "execute_result"
    }
   ],
   "source": [
    "let A = Array::random((5, 5), Uniform::new(lower, upper));\n",
    "let B = Array::random((5, 5), Uniform::new(lower, upper));"
   ]
  },
  {
   "cell_type": "code",
   "execution_count": 11,
   "id": "b8f16944-9e49-47e6-9f96-be2de117995d",
   "metadata": {},
   "outputs": [
    {
     "data": {
      "text/plain": [
       "[[-382252331, -4063660163, 7078747065, -5173629964, -2924556841],\n",
       " [-3557786325, -660764360, -2793057864, 6704180843, 7773477642],\n",
       " [-1135496855, 1274473577, -1055818622, -2952696655, 489933246],\n",
       " [-2954926941, -3690903201, 7243679870, -5803049256, 60752117],\n",
       " [4704014301, 6407628100, -6865242541, 3656092251, -2471335070]], shape=[5, 5], strides=[5, 1], layout=Cc (0x5), const ndim=2"
      ]
     },
     "execution_count": 11,
     "metadata": {},
     "output_type": "execute_result"
    },
    {
     "data": {
      "text/html": [
       "<span style=\"color: rgba(0,0,0,0.4);\">Took 429ms</span>"
      ]
     },
     "execution_count": 11,
     "metadata": {},
     "output_type": "execute_result"
    }
   ],
   "source": [
    "A.dot(&B)"
   ]
  }
 ],
 "metadata": {
  "kernelspec": {
   "display_name": "Rust",
   "language": "rust",
   "name": "rust"
  },
  "language_info": {
   "codemirror_mode": "rust",
   "file_extension": ".rs",
   "mimetype": "text/rust",
   "name": "Rust",
   "pygment_lexer": "rust",
   "version": ""
  }
 },
 "nbformat": 4,
 "nbformat_minor": 5
}
