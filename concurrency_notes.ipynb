{
 "cells": [
  {
   "cell_type": "markdown",
   "id": "9d61b1cc-3af7-4c51-9c3e-5a918fd86d7d",
   "metadata": {},
   "source": [
    "# Notes on Python [Concurrency](https://docs.python.org/3.7/library/ipc.html)"
   ]
  },
  {
   "cell_type": "markdown",
   "id": "913c37be-783f-4466-a92d-692dfa8b1634",
   "metadata": {},
   "source": [
    "## threading"
   ]
  },
  {
   "cell_type": "markdown",
   "id": "548fc611-f8a5-41c0-93aa-46a17fec091f",
   "metadata": {},
   "source": [
    "CPython interpreter uses GIL to ensure that only one thread is executing Python bytecode at a time"
   ]
  },
  {
   "cell_type": "markdown",
   "id": "0bd297dd-b92f-4943-8859-26656ab9a14a",
   "metadata": {},
   "source": [
    "Python source code compiled to bytecode (.py -> .pyc). intermediate language run on Python virtual Python virtual machine that in turn executes machine code. (.py -> .pyc -> VM -> machine code) (bytecode in `dis`). "
   ]
  },
  {
   "cell_type": "markdown",
   "id": "83b70089-72f8-47bd-bb24-f0f382728f5c",
   "metadata": {},
   "source": [
    "module.py text -> tokenized -> ast -> bytecode -> VM -> machine code"
   ]
  },
  {
   "cell_type": "markdown",
   "id": "57d30f60-2592-4b9c-ba8f-4c58e3ac2432",
   "metadata": {},
   "source": [
    "loosely based on Java threading. no priorities, thread groups, cannot generally control lifecycle of threads."
   ]
  },
  {
   "cell_type": "markdown",
   "id": "0b59930e-1619-4bb9-8677-121ab7e03baa",
   "metadata": {},
   "source": [
    "executed atomically - meaning one at a time, uninterrupted, entire method executes or does not? Think this is merely referring to single thread execution at a time, but could clarify later."
   ]
  },
  {
   "cell_type": "markdown",
   "id": "d9c5f566-2d30-46c3-8ced-cdca5288e368",
   "metadata": {},
   "source": [
    "`Thread`"
   ]
  },
  {
   "cell_type": "code",
   "execution_count": 1,
   "id": "61283116-3d3b-4aac-86ef-40b0da569ef5",
   "metadata": {},
   "outputs": [],
   "source": [
    "from threading import Thread\n",
    "import threading\n",
    "import time"
   ]
  },
  {
   "cell_type": "code",
   "execution_count": 2,
   "id": "78b41fac-daa1-47ee-bec1-1321a1cbd0e8",
   "metadata": {},
   "outputs": [],
   "source": [
    "def f():\n",
    "    thread = threading.current_thread()\n",
    "    print(f\"Thread ({thread.name}) ({thread.ident}) function execution begins\", end=\" \")\n",
    "    for i in range(3):\n",
    "        time.sleep(0.25)\n",
    "        print(\".\", end=\" \")\n",
    "    time.sleep(0.25)\n",
    "    print(\"And Done!\")"
   ]
  },
  {
   "cell_type": "code",
   "execution_count": 3,
   "id": "5ff30219-6993-4822-a253-b0c15768ec3f",
   "metadata": {},
   "outputs": [
    {
     "name": "stdout",
     "output_type": "stream",
     "text": [
      "Thread (MainThread) (4583409152) function execution begins . . . And Done!\n"
     ]
    }
   ],
   "source": [
    "f()"
   ]
  },
  {
   "cell_type": "markdown",
   "id": "6f939b47-8dd6-4179-a0b8-c6cc415312e9",
   "metadata": {},
   "source": [
    "Same function, different thread name and id from main."
   ]
  },
  {
   "cell_type": "code",
   "execution_count": 4,
   "id": "62c4d567-78e3-4758-b3b0-52305c9d33ff",
   "metadata": {},
   "outputs": [
    {
     "name": "stdout",
     "output_type": "stream",
     "text": [
      "Thread (Thread-5 (f)) (123145551855616) function execution begins . . . And Done!\n"
     ]
    }
   ],
   "source": [
    "Thread(target=f).start()"
   ]
  },
  {
   "cell_type": "markdown",
   "id": "8b321d54-c69f-4844-a25c-a25eebae1f9a",
   "metadata": {},
   "source": [
    "Can also use with subclassing"
   ]
  },
  {
   "cell_type": "code",
   "execution_count": 5,
   "id": "7c8625c6-1f6e-4dfd-8aa2-b167f9c5e660",
   "metadata": {},
   "outputs": [],
   "source": [
    "class MyThread(Thread):\n",
    "    def run(self):\n",
    "        return f()"
   ]
  },
  {
   "cell_type": "code",
   "execution_count": 6,
   "id": "0604c5d8-aa43-4f52-9b42-d11d0b7245b5",
   "metadata": {},
   "outputs": [
    {
     "name": "stdout",
     "output_type": "stream",
     "text": [
      "Thread (Thread-6) (123145551855616) function execution begins . . . And Done!\n"
     ]
    }
   ],
   "source": [
    "MyThread().start()"
   ]
  },
  {
   "cell_type": "markdown",
   "id": "d8aca161-aaf9-4d07-930c-9d7654e19986",
   "metadata": {},
   "source": [
    "### Sync Primitives"
   ]
  },
  {
   "cell_type": "markdown",
   "id": "9705010f-82a4-4a9c-a806-df7b11d736be",
   "metadata": {},
   "source": [
    "all support context manager `with` blocks"
   ]
  },
  {
   "cell_type": "markdown",
   "id": "4da61297-2e41-404d-a117-20059bd39471",
   "metadata": {},
   "source": [
    "use locks to solve race condition problems, control access to shared state, etc."
   ]
  },
  {
   "cell_type": "markdown",
   "id": "cd8d55fe-534c-42ce-b07e-ed0707c367f5",
   "metadata": {},
   "source": [
    "locks can introduce deadlocks, where one thread never releases a lock and another thread waits forever to acquire it"
   ]
  },
  {
   "cell_type": "markdown",
   "id": "d7f0e95e-de52-4a29-a688-f0ca02342647",
   "metadata": {},
   "source": [
    "instead of blocking, acquire calls can immediately return boolean, or return boolean after a timeout duration"
   ]
  },
  {
   "cell_type": "markdown",
   "id": "bb1df2b1-82fd-49d7-bfa0-a3100c83cad4",
   "metadata": {},
   "source": [
    "`Lock`"
   ]
  },
  {
   "cell_type": "markdown",
   "id": "a138e3a8-e37f-4067-8668-1162ea81cf52",
   "metadata": {},
   "source": [
    "Not owned by any one thread\n",
    "\n",
    "lowest level sync primitive in Python\n",
    "\n",
    "locked and unlocked state -> `acquire()` and `release()`\n",
    "\n",
    "same as mutex (mutually exclusive execution)"
   ]
  },
  {
   "cell_type": "code",
   "execution_count": 7,
   "id": "2d9e9f0e-c569-47e7-bc4d-1354d0efa8f9",
   "metadata": {},
   "outputs": [
    {
     "data": {
      "text/plain": [
       "False"
      ]
     },
     "execution_count": 7,
     "metadata": {},
     "output_type": "execute_result"
    }
   ],
   "source": [
    "from threading import Lock\n",
    "lock = Lock()\n",
    "lock.locked()"
   ]
  },
  {
   "cell_type": "code",
   "execution_count": 8,
   "id": "75ce5ca7-2381-45f8-8da5-2da9cdc8c061",
   "metadata": {},
   "outputs": [],
   "source": [
    "from string import ascii_lowercase\n",
    "def messy_printing(lock):\n",
    "    t = threading.current_thread()\n",
    "    color = '\\033[94m' if t.name == \"blue\" else '\\033[91m'\n",
    "    def print_alphabet():\n",
    "        for letter in ascii_lowercase:\n",
    "            print(color + letter, end=\"\")\n",
    "            time.sleep(0.01)\n",
    "    if lock:\n",
    "        with lock:\n",
    "            print_alphabet()\n",
    "    else:\n",
    "        print_alphabet()"
   ]
  },
  {
   "cell_type": "code",
   "execution_count": 9,
   "id": "382cb699-d3fb-449a-ab9e-035ede31d8b7",
   "metadata": {},
   "outputs": [
    {
     "name": "stdout",
     "output_type": "stream",
     "text": [
      "\u001b[94ma\u001b[91ma\u001b[94mb\u001b[91mb\u001b[91mc\u001b[94mc\u001b[91md\u001b[94md\u001b[91me\u001b[94me\u001b[91mf\u001b[94mf\u001b[91mg\u001b[94mg\u001b[91mh\u001b[94mh\u001b[91mi\u001b[94mi\u001b[91mj\u001b[94mj\u001b[91mk\u001b[94mk\u001b[91ml\u001b[94ml\u001b[91mm\u001b[94mm\u001b[91mn\u001b[94mn\u001b[94mo\u001b[91mo\u001b[94mp\u001b[91mp\u001b[94mq\u001b[91mq\u001b[94mr\u001b[91mr\u001b[94ms\u001b[91ms\u001b[94mt\u001b[91mt\u001b[91mu\u001b[94mu\u001b[91mv\u001b[94mv\u001b[91mw\u001b[94mw\u001b[91mx\u001b[94mx\u001b[91my\u001b[94my\u001b[91mz\u001b[94mz"
     ]
    }
   ],
   "source": [
    "t1 = Thread(target=messy_printing, args=(None,), name=\"blue\")\n",
    "t2 = Thread(target=messy_printing, args=(None,), name=\"red\")\n",
    "t1.start()\n",
    "t2.start()"
   ]
  },
  {
   "cell_type": "code",
   "execution_count": 10,
   "id": "d805f284-020d-47e9-9c8f-64f167834249",
   "metadata": {},
   "outputs": [
    {
     "name": "stdout",
     "output_type": "stream",
     "text": [
      "\u001b[94ma\u001b[94mb\u001b[94mc\u001b[94md\u001b[94me\u001b[94mf\u001b[94mg\u001b[94mh\u001b[94mi\u001b[94mj\u001b[94mk\u001b[94ml\u001b[94mm\u001b[94mn\u001b[94mo\u001b[94mp\u001b[94mq\u001b[94mr\u001b[94ms\u001b[94mt\u001b[94mu\u001b[94mv\u001b[94mw\u001b[94mx\u001b[94my\u001b[94mz\u001b[91ma\u001b[91mb\u001b[91mc\u001b[91md\u001b[91me\u001b[91mf\u001b[91mg\u001b[91mh\u001b[91mi\u001b[91mj\u001b[91mk\u001b[91ml\u001b[91mm\u001b[91mn\u001b[91mo\u001b[91mp\u001b[91mq\u001b[91mr\u001b[91ms\u001b[91mt\u001b[91mu\u001b[91mv\u001b[91mw\u001b[91mx\u001b[91my\u001b[91mz"
     ]
    }
   ],
   "source": [
    "t1 = Thread(target=messy_printing, args=(lock,), name=\"blue\")\n",
    "t2 = Thread(target=messy_printing, args=(lock,), name=\"red\")\n",
    "t1.start()\n",
    "t2.start()"
   ]
  },
  {
   "cell_type": "markdown",
   "id": "b8ffe476-3976-43bd-b1f5-ec2293be96d6",
   "metadata": {},
   "source": [
    "`RLock`"
   ]
  },
  {
   "cell_type": "markdown",
   "id": "a5eef852-5677-4bbf-87ef-7d050b2b5c28",
   "metadata": {},
   "source": [
    "same as `Lock`, but can be acquired by same thread multiple times, and must be released as many times as it is acquired in that thread before its stated is not locked and another thread can acquire it"
   ]
  },
  {
   "cell_type": "markdown",
   "id": "be2d69f3-698d-4f4c-842f-b271dba4d176",
   "metadata": {},
   "source": [
    "`Event`"
   ]
  },
  {
   "cell_type": "markdown",
   "id": "427ea81a-6298-4d07-a1a1-917a7eef667d",
   "metadata": {},
   "source": [
    "atomic boolean - `.set()`, `is_set()`, `.wait()`, `.clear()`"
   ]
  },
  {
   "cell_type": "markdown",
   "id": "fb619a8a-fa29-4967-9f6d-4174f0b9d895",
   "metadata": {},
   "source": [
    "`Condition`"
   ]
  },
  {
   "cell_type": "markdown",
   "id": "d56dfdea-498a-4c58-aecd-1639b8ec9784",
   "metadata": {},
   "source": [
    "basically `Event` + `Lock` controlling access to some resource"
   ]
  },
  {
   "cell_type": "markdown",
   "id": "1d751113-a637-455a-a3ad-30206899152f",
   "metadata": {},
   "source": [
    "`Semaphore`"
   ]
  },
  {
   "cell_type": "markdown",
   "id": "8685d6ee-438f-411e-8465-bf453162418d",
   "metadata": {},
   "source": [
    "extend `Lock` with internal counter to allow multiple threads to acquire lock (limit number of threads that can acquire lock). `Semaphore(1)` is equivalent to a `Lock`"
   ]
  },
  {
   "cell_type": "code",
   "execution_count": 11,
   "id": "1749eae6-fe11-4a16-8477-331455b95f12",
   "metadata": {},
   "outputs": [],
   "source": [
    "from threading import Semaphore\n",
    "from random import randint"
   ]
  },
  {
   "cell_type": "code",
   "execution_count": 12,
   "id": "dfa8c32e-95f8-431a-9e74-ab669fedf5da",
   "metadata": {},
   "outputs": [],
   "source": [
    "def work(id_, cost, name, semaphore):\n",
    "    color = f\"\\33[{30 + id_}m\"\n",
    "    def g():\n",
    "        for _ in range(cost): \n",
    "            time.sleep(cost / 1000)\n",
    "            print(color + name, end=\"\")\n",
    "    if semaphore:\n",
    "        with semaphore:\n",
    "            g()\n",
    "    else:\n",
    "        g()"
   ]
  },
  {
   "cell_type": "code",
   "execution_count": 13,
   "id": "a76163a0-0bf5-401a-b675-61bcaa985908",
   "metadata": {},
   "outputs": [],
   "source": [
    "def test_semaphore(count):\n",
    "    semaphore = Semaphore(count) if count is not None else None\n",
    "    n_tasks = 5\n",
    "    for i, name in zip(range(n_tasks), ascii_lowercase):\n",
    "        cost = randint(1, 20)\n",
    "        Thread(target=work, args=(i, cost, name, semaphore)).start()"
   ]
  },
  {
   "cell_type": "code",
   "execution_count": 14,
   "id": "4e4fad2a-5497-47b3-8f5d-55e70f89cd04",
   "metadata": {},
   "outputs": [
    {
     "name": "stdout",
     "output_type": "stream",
     "text": [
      "\u001b[32mc\u001b[30ma\u001b[32mc\u001b[34me\u001b[30ma\u001b[34me\u001b[30ma\u001b[33md\u001b[34me\u001b[30ma\u001b[34me\u001b[31mb\u001b[33md\u001b[34me\u001b[33md\u001b[31mb\u001b[33md\u001b[33md\u001b[31mb\u001b[33md\u001b[31mb\u001b[33md\u001b[33md\u001b[31mb\u001b[33md\u001b[33md\u001b[31mb\u001b[33md\u001b[31mb\u001b[31mb\u001b[31mb\u001b[31mb\u001b[31mb\u001b[31mb\u001b[31mb\u001b[31mb\u001b[31mb\u001b[31mb\u001b[31mb\u001b[31mb\u001b[31mb"
     ]
    }
   ],
   "source": [
    "test_semaphore(None)"
   ]
  },
  {
   "cell_type": "code",
   "execution_count": 15,
   "id": "eb10536d-af36-4e5e-9b5e-7985b968065c",
   "metadata": {},
   "outputs": [
    {
     "name": "stdout",
     "output_type": "stream",
     "text": [
      "\u001b[30ma\u001b[30ma\u001b[30ma\u001b[30ma\u001b[30ma\u001b[30ma\u001b[30ma\u001b[30ma\u001b[30ma\u001b[30ma\u001b[30ma\u001b[30ma\u001b[30ma\u001b[30ma\u001b[30ma\u001b[30ma\u001b[31mb\u001b[31mb\u001b[31mb\u001b[31mb\u001b[31mb\u001b[31mb\u001b[31mb\u001b[31mb\u001b[31mb\u001b[31mb\u001b[31mb\u001b[31mb\u001b[31mb\u001b[31mb\u001b[31mb\u001b[31mb\u001b[31mb\u001b[31mb\u001b[31mb\u001b[31mb\u001b[32mc\u001b[32mc\u001b[32mc\u001b[33md\u001b[33md\u001b[34me\u001b[34me\u001b[34me\u001b[34me\u001b[34me\u001b[34me\u001b[34me\u001b[34me\u001b[34me\u001b[34me\u001b[34me\u001b[34me\u001b[34me\u001b[34me\u001b[34me\u001b[34me\u001b[34me\u001b[34me\u001b[34me"
     ]
    }
   ],
   "source": [
    "test_semaphore(1)"
   ]
  },
  {
   "cell_type": "code",
   "execution_count": 16,
   "id": "040eaa1b-53de-4b73-b674-bebe7d529040",
   "metadata": {},
   "outputs": [
    {
     "name": "stdout",
     "output_type": "stream",
     "text": [
      "\u001b[31mb\u001b[31mb\u001b[30ma\u001b[31mb\u001b[31mb\u001b[30ma\u001b[31mb\u001b[31mb\u001b[30ma\u001b[32mc\u001b[30ma\u001b[30ma\u001b[32mc\u001b[30ma\u001b[32mc\u001b[30ma\u001b[32mc\u001b[30ma\u001b[32mc\u001b[30ma\u001b[30ma\u001b[32mc\u001b[30ma\u001b[32mc\u001b[30ma\u001b[32mc\u001b[30ma\u001b[32mc\u001b[30ma\u001b[33md\u001b[32mc\u001b[33md\u001b[33md\u001b[33md\u001b[32mc\u001b[33md\u001b[33md\u001b[32mc\u001b[33md\u001b[34me\u001b[32mc\u001b[32mc\u001b[32mc\u001b[32mc\u001b[32mc"
     ]
    }
   ],
   "source": [
    "test_semaphore(2)"
   ]
  },
  {
   "cell_type": "markdown",
   "id": "24e2255b-8966-441f-86f5-d7e95f6a8b76",
   "metadata": {},
   "source": [
    "`Barrier`"
   ]
  },
  {
   "cell_type": "code",
   "execution_count": 17,
   "id": "b255ef2e-7e57-4fac-a066-212f707be8a3",
   "metadata": {},
   "outputs": [],
   "source": [
    "from threading import Barrier\n",
    "import sys"
   ]
  },
  {
   "cell_type": "code",
   "execution_count": 18,
   "id": "f48e02eb-bf6a-43ef-b681-5e344aecb109",
   "metadata": {},
   "outputs": [],
   "source": [
    "def fire():\n",
    "    print(\"Fire!\")\n",
    "def shoot(row=0):\n",
    "    barrier.wait()\n",
    "    distance = 50\n",
    "    for left_spaces, right_spaces in zip(range(distance), reversed(range(distance))):\n",
    "        l, r = \" \" * left_spaces, \" \" * right_spaces\n",
    "        print(f\"{l}->{r}\", end=\"\\r\")\n",
    "        sys.stdout.flush()\n",
    "        time.sleep(0.05)"
   ]
  },
  {
   "cell_type": "code",
   "execution_count": 19,
   "id": "15112b3c-d91f-4f6a-bafe-86c888cda46a",
   "metadata": {},
   "outputs": [],
   "source": [
    "barrier = Barrier(parties=3, action=fire)"
   ]
  },
  {
   "cell_type": "markdown",
   "id": "8a55fdf5-32f8-4239-b4ac-b3ac49c8ebce",
   "metadata": {},
   "source": [
    "Not quite the beautiful sync animation I was hoping for, but I'm not going to take the time to firgure out the printing magic to do so."
   ]
  },
  {
   "cell_type": "markdown",
   "id": "3ae91c5e-78e5-4163-9677-b77f1b7b0324",
   "metadata": {},
   "source": [
    "1 writer thread that writes (10, 72) matrix to screen as str at some high sub-second framerate\n",
    "(10, 72) shared memory matrix or 10 of vectors - then sharing is only 1 thread writes and 1 reads..."
   ]
  },
  {
   "cell_type": "code",
   "execution_count": 20,
   "id": "705027df-f287-415b-8029-e8c706a0500d",
   "metadata": {},
   "outputs": [
    {
     "name": "stdout",
     "output_type": "stream",
     "text": [
      "...Fire!\n",
      "                                                 ->                                                ->  ->                                                 ->                                                  ->                                                 ->                                                  ->                                                 ->                                                  ->                                                 ->                                                 ->                                                   ->                                                  ->                                                 ->                                                  ->                                                  ->                                                  ->                                                 ->                                                  ->                                                  ->                                                 ->                                                 ->                                                   ->                                                   ->                                                  ->                                                  ->                                                   ->                                                 ->                                                  ->                                                 ->                                                  ->                                                 ->                                                  ->                                                 ->                                                 ->                                                   ->                                                 ->                                                  ->                                                 ->                                                  ->                                                 ->                                                 ->                                                    ->                                                  ->                                                  ->                                                    ->                                                 ->                                                  ->                                                 ->                                                  ->                                                 ->                                                  ->                                                 ->                                                  ->                                                 ->                                                  ->                                                 ->                                                  ->                                                 ->                                                 ->                                                   ->                                                 ->                                                  ->                                                 ->                                                  ->                                                 ->                                                  ->                                                 ->                                                  ->                                                 ->                                                 ->                                                   ->                                                 ->\r"
     ]
    }
   ],
   "source": [
    "for i in range(3):\n",
    "    time.sleep(0.2)\n",
    "    print(\".\", end=\"\")\n",
    "    Thread(target=shoot, args=(i,)).start()"
   ]
  },
  {
   "cell_type": "markdown",
   "id": "5b241e5f-78ce-4ba5-b310-8cee6aa963f8",
   "metadata": {},
   "source": [
    "`Timer`"
   ]
  },
  {
   "cell_type": "code",
   "execution_count": 21,
   "id": "58f1c695-00fe-41f4-95d7-6548ca5f986f",
   "metadata": {},
   "outputs": [
    {
     "name": "stdout",
     "output_type": "stream",
     "text": [
      "Waiting...\n",
      "Still waiting...\n",
      "Thread (Thread-25) (123145551855616) function execution begins . . . And Done!\n"
     ]
    }
   ],
   "source": [
    "from threading import Timer\n",
    "Timer(3, f).start()\n",
    "print(\"Waiting...\")\n",
    "time.sleep(1)\n",
    "print(\"Still waiting...\")"
   ]
  },
  {
   "cell_type": "code",
   "execution_count": 22,
   "id": "539f8afc-1d35-444f-8a26-540543da46e2",
   "metadata": {},
   "outputs": [],
   "source": [
    "def heartbeat(interval):\n",
    "    heart_rate = 60\n",
    "    heart_rate_interval = heart_rate / 60\n",
    "    print(\"ba bump...\", end=\" \")\n",
    "    time.sleep(heart_rate_interval)\n",
    "    global sentinal\n",
    "    if sentinal == 0:\n",
    "        print(\"beeeeeeeeep.\")\n",
    "        return\n",
    "    else:\n",
    "        Timer(interval, heartbeat, (interval,)).start()\n",
    "        sentinal -= 1"
   ]
  },
  {
   "cell_type": "code",
   "execution_count": 23,
   "id": "11389546-6936-432d-97bc-9e53a5477f35",
   "metadata": {},
   "outputs": [
    {
     "name": "stdout",
     "output_type": "stream",
     "text": [
      "ba bump... ba bump... ba bump... ba bump... ba bump... ba bump... beeeeeeeeep.\n"
     ]
    }
   ],
   "source": [
    "interval = 0.25\n",
    "sentinal = 5\n",
    "Timer(interval, heartbeat, (interval,)).start()"
   ]
  },
  {
   "cell_type": "markdown",
   "id": "e0d1521d-8a5a-4332-b027-13ca9639e48d",
   "metadata": {},
   "source": [
    "## multiprocessing"
   ]
  },
  {
   "cell_type": "markdown",
   "id": "ccaa7ad3-04e6-4ad6-8b82-87a86b0876df",
   "metadata": {},
   "source": [
    "spawn -   \n",
    "fork -  \n",
    "forkserver -  \n",
    "\n",
    "global `set_start_method()`  \n",
    "local `get_context()`"
   ]
  },
  {
   "cell_type": "code",
   "execution_count": 24,
   "id": "ce2079e1-8e80-4d41-8437-318b64b77183",
   "metadata": {},
   "outputs": [],
   "source": [
    "from multiprocessing import Pool"
   ]
  },
  {
   "cell_type": "markdown",
   "id": "abffb40e-70eb-4044-bc1b-dc9970d11f79",
   "metadata": {},
   "source": [
    "Come back and detail why this works.."
   ]
  },
  {
   "cell_type": "code",
   "execution_count": 25,
   "id": "4397fdb4-deac-4ea0-937a-6a56a311fca9",
   "metadata": {},
   "outputs": [
    {
     "name": "stdout",
     "output_type": "stream",
     "text": [
      "Overwriting mp_f.py\n"
     ]
    }
   ],
   "source": [
    "%%file mp_f.py\n",
    "import threading\n",
    "import time\n",
    "def mp_f(start_time):\n",
    "    started = time.time()\n",
    "    diff = started - start_time\n",
    "    thread = threading.current_thread()\n",
    "    print(f\"{diff:0.03f}s Thread ({thread.name}) ({thread.ident}) function execution begins\", end=\" \")\n",
    "    for i in range(3):\n",
    "        time.sleep(0.5)\n",
    "        print(\".\", end=\" \")\n",
    "    time.sleep(0.5)\n",
    "    print(\"And Done!\")"
   ]
  },
  {
   "cell_type": "code",
   "execution_count": 26,
   "id": "5d0b9930-cd71-40f1-b85f-be7dfa472275",
   "metadata": {},
   "outputs": [
    {
     "name": "stdout",
     "output_type": "stream",
     "text": [
      "0.000s - start\n",
      "0.083s - pool created\n",
      "0.103s Thread (MainThread) (4504147456) function execution begins . . . And Done!\n",
      "0.111s Thread (MainThread) (4646553088) function execution begins . . . And Done!\n",
      "0.115s Thread (MainThread) (4593587712) function execution begins . . . And Done!\n",
      "0.122s Thread (MainThread) (4559005184) function execution begins . . . And Done!\n",
      "0.128s Thread (MainThread) (4469634560) function execution begins . . . And Done!\n",
      "0.129s Thread (MainThread) (4669572608) function execution begins . . . And Done!\n",
      "0.137s Thread (MainThread) (4597757440) function execution begins . . . And Done!\n",
      "0.140s Thread (MainThread) (4656297472) function execution begins . . . And Done!\n"
     ]
    }
   ],
   "source": [
    "from mp_f import mp_f\n",
    "n = 8\n",
    "start_time = time.time()\n",
    "print(\"0.000s - start\")\n",
    "with Pool(n) as p:\n",
    "    print(f\"{time.time() - start_time:0.03f}s - pool created\")\n",
    "    p.starmap(mp_f, [(start_time,)] * n)"
   ]
  },
  {
   "cell_type": "markdown",
   "id": "d79d2b26-f175-441a-8b03-f1f09db3b570",
   "metadata": {},
   "source": [
    "### IPC"
   ]
  },
  {
   "cell_type": "markdown",
   "id": "4ffaed4f-0b9f-4a5b-b173-9ebe424bc372",
   "metadata": {},
   "source": [
    "producer consumer paradigm  \n",
    "listeners and clients\n",
    "FIFO, LIFO, priority"
   ]
  },
  {
   "cell_type": "markdown",
   "id": "8b3de2de-a492-41d4-8620-e2015f459074",
   "metadata": {},
   "source": [
    "`Queue`, `SimpleQueue`, `JoinableQueue` "
   ]
  },
  {
   "cell_type": "code",
   "execution_count": 27,
   "id": "f3463e4e-a6bc-4803-8588-7faa084c04dd",
   "metadata": {},
   "outputs": [],
   "source": [
    "%load_ext autoreload\n",
    "%autoreload 2"
   ]
  },
  {
   "cell_type": "code",
   "execution_count": 28,
   "id": "e16a4650-9065-46c3-9cd5-9b0b0a2a112c",
   "metadata": {},
   "outputs": [],
   "source": [
    "from multiprocessing import Queue\n",
    "queue = Queue()"
   ]
  },
  {
   "cell_type": "code",
   "execution_count": 29,
   "id": "4f0808d4-b619-498d-bf7c-2326ed96951a",
   "metadata": {},
   "outputs": [
    {
     "name": "stdout",
     "output_type": "stream",
     "text": [
      "Overwriting producer.py\n"
     ]
    }
   ],
   "source": [
    "%%file producer.py\n",
    "import time\n",
    "from random import randint\n",
    "def producer(queue):\n",
    "    print(\"Producer producing!\")\n",
    "    while True:\n",
    "        time.sleep(1)\n",
    "        work = randint(0, 5)\n",
    "        print(f\"Putting {work=} in queue\")\n",
    "        queue.put(work)\n",
    "        if randint(0, 5) == 4:\n",
    "            print(\"Magic number 8, gotta go!\")\n",
    "            queue.put(\"stop\")\n",
    "            break"
   ]
  },
  {
   "cell_type": "code",
   "execution_count": 30,
   "id": "4bda91e9-d13a-4fd5-965d-9b1e5d7db217",
   "metadata": {},
   "outputs": [
    {
     "name": "stdout",
     "output_type": "stream",
     "text": [
      "Producer producing!\n",
      "Putting work=1 in queue\n",
      "Magic number 8, gotta go!\n"
     ]
    }
   ],
   "source": [
    "from producer import producer\n",
    "producer(queue)"
   ]
  },
  {
   "cell_type": "code",
   "execution_count": 31,
   "id": "1a9a5157-b365-4277-8423-d74346d74b8f",
   "metadata": {},
   "outputs": [
    {
     "name": "stdout",
     "output_type": "stream",
     "text": [
      "Overwriting consumer.py\n"
     ]
    }
   ],
   "source": [
    "%%file consumer.py\n",
    "import time\n",
    "from random import randint\n",
    "def consumer(queue):\n",
    "    print(\"Consumer consuming!\")\n",
    "    while True:\n",
    "        work = queue.get()\n",
    "        if work == \"stop\":\n",
    "            print(\"All done\")\n",
    "            break\n",
    "        print(f\"Handling {work=}\", end=\" \")\n",
    "        for _ in range(work):\n",
    "            time.sleep(work / 100)\n",
    "            print(\".\", end=\" \")\n",
    "        print()"
   ]
  },
  {
   "cell_type": "code",
   "execution_count": 32,
   "id": "4179ab40-1f3f-4e1e-be24-e7c393416c9a",
   "metadata": {},
   "outputs": [
    {
     "name": "stdout",
     "output_type": "stream",
     "text": [
      "Consumer consuming!\n",
      "Handling work=1 . \n",
      "All done\n"
     ]
    }
   ],
   "source": [
    "from consumer import consumer\n",
    "consumer(queue)"
   ]
  },
  {
   "cell_type": "code",
   "execution_count": 33,
   "id": "ab0141e5-90a7-4ecf-9e12-378eb2e1f284",
   "metadata": {},
   "outputs": [
    {
     "name": "stdout",
     "output_type": "stream",
     "text": [
      "Producer producing!\n",
      "Consumer consuming!\n",
      "Startup time: 0.0011\n",
      "Putting work=2 in queue\n",
      "Handling work=2 . . \n",
      "Putting work=3 in queue\n",
      "Handling work=3 . . . \n",
      "Putting work=4 in queue\n",
      "Handling work=4 . . . . \n",
      "Putting work=4 in queue\n",
      "Handling work=4 . . . . \n",
      "Putting work=5 in queue\n",
      "Handling work=5 . . . . . \n",
      "Putting work=1 in queue\n",
      "Handling work=1 . \n",
      "Putting work=4 in queue\n",
      "Handling work=4 . . . . \n",
      "Putting work=2 in queue\n",
      "Handling work=2 . . \n",
      "Putting work=0 in queue\n",
      "Handling work=0 \n",
      "Putting work=0 in queue\n",
      "Handling work=0 \n",
      "Putting work=2 in queue\n",
      "Handling work=2 . . \n",
      "Putting work=2 in queue\n",
      "Magic number 8, gotta go!\n",
      "Handling work=2 . . \n",
      "All done\n"
     ]
    }
   ],
   "source": [
    "t = time.perf_counter()\n",
    "producer_thread = Thread(target=producer, args=(queue,))\n",
    "consumer_thread = Thread(target=consumer, args=(queue,))\n",
    "producer_thread.start()\n",
    "consumer_thread.start()\n",
    "print(f\"Startup time: {time.perf_counter() - t:0.04f}\")\n",
    "producer_thread.join()\n",
    "consumer_thread.join()"
   ]
  },
  {
   "cell_type": "code",
   "execution_count": 34,
   "id": "f845a80f-ff6f-4a6e-bed0-a01aaf6b3e63",
   "metadata": {},
   "outputs": [],
   "source": [
    "from multiprocessing import Process"
   ]
  },
  {
   "cell_type": "markdown",
   "id": "da131cf3-33d0-4875-a61d-a4270f9c6417",
   "metadata": {},
   "source": [
    "Why is this printing all producer stdout then consumer? Just printing or something off with Processes?"
   ]
  },
  {
   "cell_type": "code",
   "execution_count": 36,
   "id": "3590e417-892a-468e-9967-c60b3f0ecce7",
   "metadata": {},
   "outputs": [
    {
     "name": "stdout",
     "output_type": "stream",
     "text": [
      "Startup time: 0.013\n",
      "Producer producing!\n",
      "Putting work=3 in queue\n",
      "Putting work=1 in queue\n",
      "Putting work=2 in queue\n",
      "Putting work=2 in queue\n",
      "Putting work=3 in queue\n",
      "Putting work=0 in queue\n",
      "Putting work=2 in queue\n",
      "Putting work=3 in queue\n",
      "Putting work=1 in queue\n",
      "Putting work=4 in queue\n",
      "Putting work=1 in queue\n",
      "Putting work=5 in queue\n",
      "Putting work=4 in queue\n",
      "Putting work=1 in queue\n",
      "Putting work=1 in queue\n",
      "Putting work=5 in queue\n",
      "Putting work=3 in queue\n",
      "Putting work=3 in queue\n",
      "Putting work=0 in queue\n",
      "Putting work=2 in queue\n",
      "Putting work=5 in queue\n",
      "Putting work=2 in queue\n",
      "Putting work=5 in queue\n",
      "Putting work=3 in queue\n",
      "Putting work=5 in queue\n",
      "Putting work=1 in queue\n",
      "Putting work=4 in queue\n",
      "Magic number 8, gotta go!\n",
      "Consumer consuming!\n",
      "Handling work=3 . . . \n",
      "Handling work=1 . \n",
      "Handling work=2 . . \n",
      "Handling work=2 . . \n",
      "Handling work=3 . . . \n",
      "Handling work=0 \n",
      "Handling work=2 . . \n",
      "Handling work=3 . . . \n",
      "Handling work=1 . \n",
      "Handling work=4 . . . . \n",
      "Handling work=1 . \n",
      "Handling work=5 . . . . . \n",
      "Handling work=4 . . . . \n",
      "Handling work=1 . \n",
      "Handling work=1 . \n",
      "Handling work=5 . . . . . \n",
      "Handling work=3 . . . \n",
      "Handling work=3 . . . \n",
      "Handling work=0 \n",
      "Handling work=2 . . \n",
      "Handling work=5 . . . . . \n",
      "Handling work=2 . . \n",
      "Handling work=5 . . . . . \n",
      "Handling work=3 . . . \n",
      "Handling work=5 . . . . . \n",
      "Handling work=1 . \n",
      "Handling work=4 . . . . \n",
      "All done\n"
     ]
    }
   ],
   "source": [
    "t = time.perf_counter()\n",
    "producer_thread = Process(target=producer, args=(queue,))\n",
    "consumer_thread = Process(target=consumer, args=(queue,))\n",
    "producer_thread.start()\n",
    "consumer_thread.start()\n",
    "print(f\"Startup time: {time.perf_counter() - t:0.03f}\")\n",
    "producer_thread.join()\n",
    "consumer_thread.join()"
   ]
  },
  {
   "cell_type": "markdown",
   "id": "ed2f98c5-8183-4956-9b21-b89ad5d73fda",
   "metadata": {},
   "source": [
    "`Pipe`, `Connection`"
   ]
  },
  {
   "cell_type": "markdown",
   "id": "90210fe6-73f4-45a7-9117-98a55a6753b1",
   "metadata": {},
   "source": [
    "pipe lower level than queue. Explicitly connect, transfer between two procs only."
   ]
  },
  {
   "cell_type": "markdown",
   "id": "975571f1-19bb-4e19-aa1d-0d060cd53cf6",
   "metadata": {},
   "source": [
    "Non-`multiprocessing` IPC"
   ]
  },
  {
   "cell_type": "markdown",
   "id": "717ce86d-c9be-4e3b-b885-3f16c56436dc",
   "metadata": {},
   "source": [
    "files, signals, sockets, shared memory"
   ]
  },
  {
   "cell_type": "markdown",
   "id": "5f147d18-5e66-401e-a21c-1ca6de6262d5",
   "metadata": {},
   "source": [
    "### Sync Primitives"
   ]
  },
  {
   "cell_type": "markdown",
   "id": "9dd4891c-6650-4839-ab64-deb6a88dc1eb",
   "metadata": {},
   "source": [
    "equivalent primitives to the `threading` module above"
   ]
  },
  {
   "cell_type": "markdown",
   "id": "27834a73-e8f3-4efa-8252-20a35a18dfe6",
   "metadata": {},
   "source": [
    "### Shared State"
   ]
  },
  {
   "cell_type": "code",
   "execution_count": 37,
   "id": "c5a68cb7-a2ee-4815-8807-84d693a7d1cc",
   "metadata": {},
   "outputs": [],
   "source": [
    "from multiprocessing.shared_memory import SharedMemory\n",
    "from multiprocessing.managers import SharedMemoryManager"
   ]
  },
  {
   "cell_type": "code",
   "execution_count": 38,
   "id": "802c23ca-9ea1-4e15-8137-f4f50bcb2260",
   "metadata": {},
   "outputs": [],
   "source": [
    "import numpy as np"
   ]
  },
  {
   "cell_type": "code",
   "execution_count": 39,
   "id": "c09a85a1-9dd9-4353-b1e3-0b21d39858f8",
   "metadata": {},
   "outputs": [],
   "source": [
    "# display = np.random.randint(0, 256, size=(78, 78), dtype=np.uint8)\n",
    "X = np.zeros((78, 78), dtype=np.uint8)"
   ]
  },
  {
   "cell_type": "code",
   "execution_count": 41,
   "id": "8e4f3c67-5513-4c79-9690-4a8b734a46f5",
   "metadata": {},
   "outputs": [
    {
     "name": "stdout",
     "output_type": "stream",
     "text": [
      "[[0 0 0 ... 0 0 0]\n",
      " [0 0 0 ... 0 0 0]\n",
      " [0 0 0 ... 0 0 0]\n",
      " ...\n",
      " [0 0 0 ... 0 0 0]\n",
      " [0 0 0 ... 0 0 0]\n",
      " [0 0 0 ... 0 0 0]]\n"
     ]
    }
   ],
   "source": [
    "print(X)"
   ]
  },
  {
   "cell_type": "code",
   "execution_count": 42,
   "id": "f1de1500-4e29-4331-b2ed-f18e72da122c",
   "metadata": {},
   "outputs": [
    {
     "name": "stdout",
     "output_type": "stream",
     "text": [
      "Overwriting shm.py\n"
     ]
    }
   ],
   "source": [
    "%%file shm.py\n",
    "from multiprocessing.shared_memory import SharedMemory\n",
    "import numpy as np\n",
    "def work_on_shm(shm_name, shape, dtype):\n",
    "    print(\"hey\")\n",
    "    shm = SharedMemory(shm_name)\n",
    "    arr = np.ndarray(shape, dtype, shm.buf)\n",
    "    print(arr.shape)"
   ]
  },
  {
   "cell_type": "code",
   "execution_count": 43,
   "id": "3a8bcf1a-0230-4d28-ba8c-8d4bc6eac6b3",
   "metadata": {},
   "outputs": [],
   "source": [
    "from shm import work_on_shm"
   ]
  },
  {
   "cell_type": "code",
   "execution_count": 44,
   "id": "01be9344-376f-4de8-a0f6-71a76faa2686",
   "metadata": {},
   "outputs": [],
   "source": [
    "from concurrent.futures import ProcessPoolExecutor, as_completed"
   ]
  },
  {
   "cell_type": "code",
   "execution_count": 45,
   "id": "3a17715e-38fb-4585-8e3b-823ea2f9f43d",
   "metadata": {},
   "outputs": [
    {
     "name": "stdout",
     "output_type": "stream",
     "text": [
      "hey\n",
      "(78, 78)\n"
     ]
    }
   ],
   "source": [
    "with ProcessPoolExecutor(8) as executor:\n",
    "    with SharedMemoryManager() as manager:\n",
    "        shm = manager.SharedMemory(X.nbytes)\n",
    "        shared_arr = np.ndarray(X.shape, X.dtype, shm.buf)\n",
    "        shared_arr[:] = X[:]\n",
    "        futures = executor.submit(work_on_shm, *(shm.name, X.shape, X.dtype))\n",
    "        futures.result()"
   ]
  },
  {
   "cell_type": "markdown",
   "id": "17ac4318-e528-4e02-9f23-cb0780bddf8e",
   "metadata": {},
   "source": [
    "Shared Memory `ctypes` - `Value`, `Array` (what is this backed by?)"
   ]
  },
  {
   "cell_type": "markdown",
   "id": "24d2e207-1811-46d4-a332-86381ffd0100",
   "metadata": {},
   "source": [
    "`Manager` server proc"
   ]
  },
  {
   "cell_type": "code",
   "execution_count": 46,
   "id": "d592c327-4cab-4eb5-8f07-526a1aca8803",
   "metadata": {},
   "outputs": [
    {
     "name": "stdout",
     "output_type": "stream",
     "text": [
      "Object `Namespace` not found.\n"
     ]
    }
   ],
   "source": [
    "Namespace?"
   ]
  },
  {
   "cell_type": "markdown",
   "id": "1f67ea2c-9ad1-4db6-b43d-641bed7e8a67",
   "metadata": {},
   "source": [
    "https://docs.python.org/3/library/multiprocessing.shared_memory.html"
   ]
  },
  {
   "cell_type": "markdown",
   "id": "6662f10b-e371-4a13-bbcb-c954c5656241",
   "metadata": {},
   "source": [
    "### Pool! Adv."
   ]
  },
  {
   "cell_type": "code",
   "execution_count": 47,
   "id": "ad45104d-84be-4490-8533-d7b8dac804a0",
   "metadata": {},
   "outputs": [
    {
     "name": "stdout",
     "output_type": "stream",
     "text": [
      "Overwriting fib.py\n"
     ]
    }
   ],
   "source": [
    "%%file fib.py\n",
    "from functools import lru_cache\n",
    "\n",
    "# @lru_cache(None)\n",
    "def fib(n):\n",
    "    return n if n < 2 else fib(n - 1) + fib(n - 2)"
   ]
  },
  {
   "cell_type": "code",
   "execution_count": 48,
   "id": "619768d9-9b0a-4a13-beff-e2cd20daa807",
   "metadata": {},
   "outputs": [],
   "source": [
    "from fib import fib"
   ]
  },
  {
   "cell_type": "code",
   "execution_count": 49,
   "id": "b8adafab-e8bb-44a7-8599-c32690505fec",
   "metadata": {},
   "outputs": [
    {
     "name": "stdout",
     "output_type": "stream",
     "text": [
      "960 ms ± 32 ms per loop (mean ± std. dev. of 7 runs, 1 loop each)\n"
     ]
    }
   ],
   "source": [
    "%time fib(33)"
   ]
  },
  {
   "cell_type": "code",
   "execution_count": 50,
   "id": "9f2641e5-2d25-4c45-a15e-04e704f227b1",
   "metadata": {},
   "outputs": [
    {
     "name": "stdout",
     "output_type": "stream",
     "text": [
      "[3524578, 3524578, 3524578, 3524578, 3524578, 3524578, 3524578, 3524578]\n",
      "CPU times: user 14.1 ms, sys: 39.2 ms, total: 53.3 ms\n",
      "Wall time: 1.32 s\n"
     ]
    }
   ],
   "source": [
    "%%time\n",
    "with Pool(8) as p:\n",
    "    print(p.map(fib, [33] * 8))"
   ]
  },
  {
   "cell_type": "code",
   "execution_count": 51,
   "id": "ad2888ed-e092-4d43-a2ad-1bca7da6b354",
   "metadata": {},
   "outputs": [
    {
     "name": "stdout",
     "output_type": "stream",
     "text": [
      "[3524578, 3524578, 3524578, 3524578, 3524578, 3524578, 3524578, 3524578]\n",
      "CPU times: user 21.5 ms, sys: 53.9 ms, total: 75.4 ms\n",
      "Wall time: 1.41 s\n"
     ]
    }
   ],
   "source": [
    "%%time\n",
    "with ProcessPoolExecutor(max_workers=8) as executor:\n",
    "    futures = executor.map(fib, [33] * 8)\n",
    "    print(list(futures))"
   ]
  },
  {
   "cell_type": "markdown",
   "id": "9b25cb45-2d89-4862-85a4-9828c159458d",
   "metadata": {},
   "source": [
    "Do cool things"
   ]
  },
  {
   "cell_type": "markdown",
   "id": "b3a53430-02ff-4602-92a0-94c5db570000",
   "metadata": {},
   "source": [
    "`Proxy` ?"
   ]
  },
  {
   "cell_type": "markdown",
   "id": "e478f22f-b126-4db7-a370-96cd4f37569f",
   "metadata": {},
   "source": [
    "Notes on [Guidelines](https://docs.python.org/3.7/library/multiprocessing.html#programming-guidelines)"
   ]
  },
  {
   "cell_type": "markdown",
   "id": "3265b016-7ee4-403d-8b00-3377f52f38b1",
   "metadata": {},
   "source": [
    "## concurrent"
   ]
  },
  {
   "cell_type": "markdown",
   "id": "82baebb9-7b29-4e8d-b983-6d00fdf82b24",
   "metadata": {},
   "source": [
    "notes on differences vs. main modules and pools"
   ]
  },
  {
   "cell_type": "markdown",
   "id": "b14b323b-9a98-4528-9a3b-44667c59c446",
   "metadata": {},
   "source": [
    "Executors!"
   ]
  },
  {
   "cell_type": "markdown",
   "id": "6ea7f760-c588-4a7d-b05b-15873f5542c6",
   "metadata": {},
   "source": [
    "## subprocess"
   ]
  },
  {
   "cell_type": "markdown",
   "id": "46a5ba38-bd4b-4a1d-a00b-87cc8765eb42",
   "metadata": {},
   "source": [
    "## sched"
   ]
  },
  {
   "cell_type": "code",
   "execution_count": 52,
   "id": "39e952e5-cd1c-483c-a9fd-01e3a19fae21",
   "metadata": {},
   "outputs": [],
   "source": [
    "import sched"
   ]
  },
  {
   "cell_type": "code",
   "execution_count": 53,
   "id": "e8d9d2d9-2b67-4257-97b7-ab68d334aec5",
   "metadata": {},
   "outputs": [],
   "source": [
    "def g(name):\n",
    "    print(name, end=\" ->\")\n",
    "    f()"
   ]
  },
  {
   "cell_type": "code",
   "execution_count": 54,
   "id": "88f9acf5-159d-4521-a041-862105284ca6",
   "metadata": {},
   "outputs": [
    {
     "name": "stdout",
     "output_type": "stream",
     "text": [
      "C ->Thread (MainThread) (4583409152) function execution begins . . . And Done!\n",
      "B ->Thread (MainThread) (4583409152) function execution begins . . . And Done!\n",
      "D ->Thread (MainThread) (4583409152) function execution begins . . . And Done!\n",
      "A ->Thread (MainThread) (4583409152) function execution begins . . . And Done!\n"
     ]
    }
   ],
   "source": [
    "scheduler = sched.scheduler()\n",
    "scheduler.enter(delay=5, priority=1, action=g, argument=('A',))\n",
    "scheduler.enter(delay=2, priority=3, action=g, argument=('B',))\n",
    "scheduler.enter(delay=1, priority=2, action=g, argument=('C',))\n",
    "scheduler.enter(delay=2, priority=1, action=g, argument=('D',))\n",
    "scheduler.run()"
   ]
  },
  {
   "cell_type": "markdown",
   "id": "deeafd4f-f2d5-4d9e-9bca-75be3c0b7dd4",
   "metadata": {},
   "source": [
    "## queue"
   ]
  },
  {
   "cell_type": "markdown",
   "id": "105a6909-8d6d-4796-a0e6-1a47ee9cc8a6",
   "metadata": {},
   "source": [
    "probably can cover all above. LIFO, FIFO, Priority for coverage."
   ]
  },
  {
   "cell_type": "markdown",
   "id": "774262ef-0716-46ee-ac22-8ad9a529f59c",
   "metadata": {},
   "source": [
    "# [Networking & IPC](https://docs.python.org/3.7/library/ipc.html)\n",
    "\n",
    "## asyncio"
   ]
  },
  {
   "cell_type": "markdown",
   "id": "3dfd3cbe-15df-4df5-9adf-080093a14a14",
   "metadata": {},
   "source": [
    "## socket"
   ]
  },
  {
   "cell_type": "markdown",
   "id": "deadf51f-b68c-42ae-b41c-b2c63e51a51e",
   "metadata": {},
   "source": [
    "## mmap"
   ]
  },
  {
   "cell_type": "code",
   "execution_count": null,
   "id": "86741faf-4bf0-4f34-b99a-ab4fd3558cc9",
   "metadata": {},
   "outputs": [],
   "source": []
  }
 ],
 "metadata": {
  "kernelspec": {
   "display_name": "Python 3 (ipykernel)",
   "language": "python",
   "name": "python3"
  },
  "language_info": {
   "codemirror_mode": {
    "name": "ipython",
    "version": 3
   },
   "file_extension": ".py",
   "mimetype": "text/x-python",
   "name": "python",
   "nbconvert_exporter": "python",
   "pygments_lexer": "ipython3",
   "version": "3.10.9"
  }
 },
 "nbformat": 4,
 "nbformat_minor": 5
}
